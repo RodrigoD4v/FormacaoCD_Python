{
 "cells": [
  {
   "cell_type": "markdown",
   "metadata": {},
   "source": [
    "## Limpeza e Tratamento de Dados ##\n",
    "### Atividade com intuito de realizar a prática de conceitos básicos de limpeza e tratamento de dados ###\n",
    "\n",
    "**Condições que precisam ser atendidas:**\n",
    "    \n",
    "* Aparência: sol, chuva, nublado\n",
    "* Temperatura: -130 ~ 130°F\n",
    "* Umidade: 0 ~ 100\n",
    "* Jogar: sim/não\n",
    "* Tratar valores NAs"
   ]
  },
  {
   "cell_type": "code",
   "execution_count": null,
   "metadata": {
    "vscode": {
     "languageId": "plaintext"
    }
   },
   "outputs": [],
   "source": []
  }
 ],
 "metadata": {
  "language_info": {
   "name": "python"
  }
 },
 "nbformat": 4,
 "nbformat_minor": 2
}
